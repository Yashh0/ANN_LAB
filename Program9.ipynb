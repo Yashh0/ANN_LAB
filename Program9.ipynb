{
 "cells": [
  {
   "cell_type": "code",
   "execution_count": 3,
   "id": "a00d8e51",
   "metadata": {},
   "outputs": [
    {
     "name": "stdout",
     "output_type": "stream",
     "text": [
      "Downloading data from https://storage.googleapis.com/tensorflow/tf-keras-datasets/imdb.npz\n",
      "17464789/17464789 [==============================] - 4s 0us/step\n",
      "Epoch 1/10\n",
      "157/157 [==============================] - 57s 353ms/step - loss: 0.6174 - accuracy: 0.6540 - val_loss: 0.4835 - val_accuracy: 0.7986\n",
      "Epoch 2/10\n",
      "157/157 [==============================] - 62s 393ms/step - loss: 0.3756 - accuracy: 0.8447 - val_loss: 0.4259 - val_accuracy: 0.8256\n",
      "Epoch 3/10\n",
      "157/157 [==============================] - 66s 420ms/step - loss: 0.2788 - accuracy: 0.8915 - val_loss: 0.3159 - val_accuracy: 0.8686\n",
      "Epoch 4/10\n",
      "157/157 [==============================] - 69s 440ms/step - loss: 0.2369 - accuracy: 0.9113 - val_loss: 0.3589 - val_accuracy: 0.8398\n",
      "Epoch 5/10\n",
      "157/157 [==============================] - 71s 452ms/step - loss: 0.2050 - accuracy: 0.9241 - val_loss: 0.3340 - val_accuracy: 0.8780\n",
      "Epoch 6/10\n",
      "157/157 [==============================] - 71s 452ms/step - loss: 0.1859 - accuracy: 0.9331 - val_loss: 0.3483 - val_accuracy: 0.8782\n",
      "Epoch 7/10\n",
      "157/157 [==============================] - 66s 421ms/step - loss: 0.1639 - accuracy: 0.9412 - val_loss: 0.3095 - val_accuracy: 0.8838\n",
      "Epoch 8/10\n",
      "157/157 [==============================] - 65s 417ms/step - loss: 0.1499 - accuracy: 0.9462 - val_loss: 0.4407 - val_accuracy: 0.8498\n",
      "Epoch 9/10\n",
      "157/157 [==============================] - 65s 412ms/step - loss: 0.1417 - accuracy: 0.9512 - val_loss: 0.6939 - val_accuracy: 0.7934\n",
      "Epoch 10/10\n",
      "157/157 [==============================] - 62s 398ms/step - loss: 0.1292 - accuracy: 0.9550 - val_loss: 0.3911 - val_accuracy: 0.8676\n"
     ]
    }
   ],
   "source": [
    "import tensorflow as tf\n",
    "from tensorflow.keras.datasets import imdb\n",
    "from tensorflow.keras.preprocessing import sequence\n",
    "from tensorflow.keras.models import Sequential\n",
    "from tensorflow.keras.layers import Embedding, LSTM, Dense\n",
    "\n",
    "# Load and preprocess the IMDB dataset\n",
    "num_words = 10000\n",
    "maxlen = 500\n",
    "(train_data, train_labels), (test_data, test_labels) = imdb.load_data(num_words=num_words)\n",
    "\n",
    "train_data = sequence.pad_sequences(train_data, maxlen=maxlen)\n",
    "test_data = sequence.pad_sequences(test_data, maxlen=maxlen)\n",
    "\n",
    "# Build the LSTM model\n",
    "model = Sequential()\n",
    "model.add(Embedding(num_words, 32))\n",
    "model.add(LSTM(32))\n",
    "model.add(Dense(1, activation='sigmoid'))\n",
    "\n",
    "# Compile the model\n",
    "model.compile(optimizer='rmsprop',\n",
    "              loss='binary_crossentropy',\n",
    "              metrics=['accuracy'])\n",
    "\n",
    "# Train the model\n",
    "history = model.fit(train_data, train_labels,\n",
    "                    epochs=10,\n",
    "                    batch_size=128,\n",
    "                    validation_split=0.2)\n"
   ]
  },
  {
   "cell_type": "code",
   "execution_count": null,
   "id": "6013f710",
   "metadata": {},
   "outputs": [],
   "source": []
  }
 ],
 "metadata": {
  "kernelspec": {
   "display_name": "Python 3 (ipykernel)",
   "language": "python",
   "name": "python3"
  },
  "language_info": {
   "codemirror_mode": {
    "name": "ipython",
    "version": 3
   },
   "file_extension": ".py",
   "mimetype": "text/x-python",
   "name": "python",
   "nbconvert_exporter": "python",
   "pygments_lexer": "ipython3",
   "version": "3.10.9"
  }
 },
 "nbformat": 4,
 "nbformat_minor": 5
}
